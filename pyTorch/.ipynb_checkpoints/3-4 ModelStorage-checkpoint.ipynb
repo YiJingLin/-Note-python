{
 "cells": [
  {
   "cell_type": "code",
   "execution_count": 2,
   "metadata": {},
   "outputs": [],
   "source": [
    "import torch\n",
    "from torch.autograd import Variable\n",
    "import torch.nn.functional as F"
   ]
  },
  {
   "cell_type": "code",
   "execution_count": null,
   "metadata": {
    "collapsed": true
   },
   "outputs": [],
   "source": [
    "def save():\n",
    "    net = torch.nn.Seuqential(\n",
    "        torch.nn.Linear(1, 10),\n",
    "        torch.nn.Relu(),\n",
    "        torch.nn.Linear(20,1)\n",
    "    )\n",
    "    \n",
    "    optimizer = torch.optim.SGD(net.parameters(), lr=0.5)\n",
    "    loss_func = torch.nn.MSELoss()\n",
    "    \n",
    "    #training\n",
    "    epoch = 100\n",
    "    for i in range(epoch):\n",
    "        prediction = net.forward(x)\n",
    "        loss = loss_func(prediction, y)\n",
    "        \n",
    "        optimizer.zero_grad()\n",
    "        loss.backward()\n",
    "        optimizer.step()\n",
    "        \n",
    "    torch.save(net, './model/net.pkl') # save model as pickle file\n",
    "    torch.save(net.state_dict(), './model/net_param.pkl') # save parameter (state) as pickle file"
   ]
  },
  {
   "cell_type": "code",
   "execution_count": null,
   "metadata": {
    "collapsed": true
   },
   "outputs": [],
   "source": [
    "def restore_net():\n",
    "    net = torch.load('./model/net.pkl')\n",
    "    return net\n",
    "    \n",
    "def restore_net_param(): # before restore params, build model first\n",
    "    net = torch.nn.Seuqential(\n",
    "        torch.nn.Linear(1, 10),\n",
    "        torch.nn.Relu(),\n",
    "        torch.nn.Linear(20,1)\n",
    "    )\n",
    "    \n",
    "    net.load_state_dict(torch.load('./model/net_param.pkl'))\n",
    "    return net"
   ]
  }
 ],
 "metadata": {
  "kernelspec": {
   "display_name": "Python 3",
   "language": "python",
   "name": "python3"
  },
  "language_info": {
   "codemirror_mode": {
    "name": "ipython",
    "version": 3
   },
   "file_extension": ".py",
   "mimetype": "text/x-python",
   "name": "python",
   "nbconvert_exporter": "python",
   "pygments_lexer": "ipython3",
   "version": "3.6.4"
  }
 },
 "nbformat": 4,
 "nbformat_minor": 2
}
