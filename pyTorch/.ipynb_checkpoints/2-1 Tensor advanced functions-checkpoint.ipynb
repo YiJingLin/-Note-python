{
 "cells": [
  {
   "cell_type": "code",
   "execution_count": 1,
   "metadata": {
    "collapsed": true
   },
   "outputs": [],
   "source": [
    "import torch"
   ]
  },
  {
   "cell_type": "code",
   "execution_count": 3,
   "metadata": {},
   "outputs": [
    {
     "data": {
      "text/plain": [
       "\n",
       "(0 ,.,.) = \n",
       "  0  0  0  0\n",
       "  0  0  0  0\n",
       "  0  0  0  0\n",
       "  0  0  0  0\n",
       "\n",
       "(1 ,.,.) = \n",
       "  0  0  0  0\n",
       "  0  0  0  0\n",
       "  0  0  0  0\n",
       "  0  0  0  0\n",
       "\n",
       "(2 ,.,.) = \n",
       "  0  0  0  0\n",
       "  0  0  0  0\n",
       "  0  0  0  0\n",
       "  0  0  0  0\n",
       "\n",
       "(3 ,.,.) = \n",
       "  0  0  0  0\n",
       "  0  0  0  0\n",
       "  0  0  0  0\n",
       "  0  0  0  0\n",
       "[torch.FloatTensor of size 4x4x4]"
      ]
     },
     "execution_count": 3,
     "metadata": {},
     "output_type": "execute_result"
    }
   ],
   "source": [
    "a = torch.zeros(4,4,4)\n",
    "a"
   ]
  },
  {
   "cell_type": "code",
   "execution_count": null,
   "metadata": {
    "collapsed": true
   },
   "outputs": [],
   "source": [
    "if a.is_contiguous():\n",
    "    print('The tensor has contiguous storage in memory')\n",
    "else:\n",
    "    print('')"
   ]
  }
 ],
 "metadata": {
  "kernelspec": {
   "display_name": "Python 3",
   "language": "python",
   "name": "python3"
  },
  "language_info": {
   "codemirror_mode": {
    "name": "ipython",
    "version": 3
   },
   "file_extension": ".py",
   "mimetype": "text/x-python",
   "name": "python",
   "nbconvert_exporter": "python",
   "pygments_lexer": "ipython3",
   "version": "3.6.4"
  }
 },
 "nbformat": 4,
 "nbformat_minor": 2
}
