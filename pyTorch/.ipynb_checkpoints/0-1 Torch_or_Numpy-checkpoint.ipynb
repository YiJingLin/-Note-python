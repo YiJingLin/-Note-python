{
 "cells": [
  {
   "cell_type": "markdown",
   "metadata": {},
   "source": [
    "# Torch and Numpy\n",
    "https://morvanzhou.github.io/tutorials/machine-learning/torch/2-01-torch-numpy/\n",
    "http://pytorch-cn.readthedocs.io/zh/latest/package_references/torch/"
   ]
  },
  {
   "cell_type": "code",
   "execution_count": 1,
   "metadata": {
    "collapsed": true
   },
   "outputs": [],
   "source": [
    "import torch\n",
    "import numpy as np\n"
   ]
  },
  {
   "cell_type": "markdown",
   "metadata": {},
   "source": [
    "# translate between numpy and tensor"
   ]
  },
  {
   "cell_type": "code",
   "execution_count": 4,
   "metadata": {},
   "outputs": [
    {
     "name": "stdout",
     "output_type": "stream",
     "text": [
      "numpy data\n",
      " [[0 1 2]\n",
      " [3 4 5]]\n",
      "torch data \n",
      " 0  1  2\n",
      " 3  4  5\n",
      "[torch.LongTensor of size 2x3]\n",
      "\n"
     ]
    }
   ],
   "source": [
    "np_data = np.arange(6).reshape((2, 3))\n",
    "print('numpy data\\n', np_data)\n",
    "\n",
    "# numpy 2 torch tensor\n",
    "torch_data = torch.from_numpy(np_data)\n",
    "print('torch data', torch_data)"
   ]
  },
  {
   "cell_type": "code",
   "execution_count": 8,
   "metadata": {},
   "outputs": [
    {
     "name": "stdout",
     "output_type": "stream",
     "text": [
      "numpy from tensor\n",
      " [[0 1 2]\n",
      " [3 4 5]]\n"
     ]
    }
   ],
   "source": [
    "# torch tensor to numpy\n",
    "np_from_tensor = torch_data.numpy()\n",
    "print('numpy from tensor\\n', np_from_tensor)"
   ]
  },
  {
   "cell_type": "markdown",
   "metadata": {},
   "source": [
    "##  "
   ]
  },
  {
   "cell_type": "code",
   "execution_count": 25,
   "metadata": {},
   "outputs": [
    {
     "name": "stdout",
     "output_type": "stream",
     "text": [
      "arange torch data \n",
      "-2 -1  0  1  2\n",
      " 3  4  5  6  7\n",
      "[torch.FloatTensor of size 2x5]\n",
      "\n"
     ]
    }
   ],
   "source": [
    "torch_data = torch.arange(-2,8,1).resize_(2,5)\n",
    "print('arange torch data', torch_data)"
   ]
  },
  {
   "cell_type": "code",
   "execution_count": 28,
   "metadata": {},
   "outputs": [
    {
     "name": "stdout",
     "output_type": "stream",
     "text": [
      "abs \n",
      " 2  1  0  1  2\n",
      " 3  4  5  6  7\n",
      "[torch.FloatTensor of size 2x5]\n",
      "\n"
     ]
    }
   ],
   "source": [
    "# absolute value\n",
    "print('abs', torch_data.abs())"
   ]
  },
  {
   "cell_type": "code",
   "execution_count": 27,
   "metadata": {},
   "outputs": [
    {
     "name": "stdout",
     "output_type": "stream",
     "text": [
      "sin \n",
      "-0.9093 -0.8415  0.0000  0.8415  0.9093\n",
      " 0.1411 -0.7568 -0.9589 -0.2794  0.6570\n",
      "[torch.FloatTensor of size 2x5]\n",
      "\n"
     ]
    }
   ],
   "source": [
    "# sin\n",
    "print('sin', torch_data.sin())"
   ]
  },
  {
   "cell_type": "code",
   "execution_count": 30,
   "metadata": {},
   "outputs": [
    {
     "name": "stdout",
     "output_type": "stream",
     "text": [
      "mean\n",
      " 2.5\n"
     ]
    }
   ],
   "source": [
    "# mean\n",
    "print('mean \\n', torch_data.mean())"
   ]
  },
  {
   "cell_type": "markdown",
   "metadata": {},
   "source": [
    "# matrix multiply and dot multiply"
   ]
  },
  {
   "cell_type": "code",
   "execution_count": 35,
   "metadata": {},
   "outputs": [
    {
     "name": "stdout",
     "output_type": "stream",
     "text": [
      "numpy matrix multiply (np.matmul) \n",
      " [[ 7 10]\n",
      " [15 22]]\n",
      "torch matrix multiply (tensor.mm) \n",
      " \n",
      "  7  10\n",
      " 15  22\n",
      "[torch.FloatTensor of size 2x2]\n",
      "\n"
     ]
    }
   ],
   "source": [
    "data = [[1,2], [3,4]]\n",
    "\n",
    "numpy_array = np.array(data)\n",
    "torch_tensor = torch.FloatTensor(data)\n",
    "\n",
    "# matrix multiply\n",
    "print('numpy matrix multiply (np.matmul) \\n', np.matmul(numpy_array, numpy_array))\n",
    "print('torch matrix multiply (tensor.mm)', torch_tensor.mm(torch_tensor))\n",
    "\n"
   ]
  }
 ],
 "metadata": {
  "kernelspec": {
   "display_name": "Python 3",
   "language": "python",
   "name": "python3"
  },
  "language_info": {
   "codemirror_mode": {
    "name": "ipython",
    "version": 3
   },
   "file_extension": ".py",
   "mimetype": "text/x-python",
   "name": "python",
   "nbconvert_exporter": "python",
   "pygments_lexer": "ipython3",
   "version": "3.6.4"
  }
 },
 "nbformat": 4,
 "nbformat_minor": 2
}
