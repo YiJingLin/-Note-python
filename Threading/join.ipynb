{
 "cells": [
  {
   "cell_type": "code",
   "execution_count": 19,
   "metadata": {
    "collapsed": true
   },
   "outputs": [],
   "source": [
    "import threading\n",
    "import time"
   ]
  },
  {
   "cell_type": "markdown",
   "metadata": {},
   "source": [
    "## Without join\n",
    "Note that there are more than one possible outcome "
   ]
  },
  {
   "cell_type": "code",
   "execution_count": 22,
   "metadata": {},
   "outputs": [
    {
     "name": "stdout",
     "output_type": "stream",
     "text": [
      "all done\n",
      "showA\n",
      "\n"
     ]
    }
   ],
   "source": [
    "def showA():\n",
    "    time.sleep(0.1)\n",
    "    print('showA\\n')\n",
    "    \n",
    "threadA = threading.Thread(target=showA, name='thrdA')\n",
    "threadA.start()\n",
    "print('all done')\n"
   ]
  },
  {
   "cell_type": "markdown",
   "metadata": {},
   "source": [
    "## With join"
   ]
  },
  {
   "cell_type": "code",
   "execution_count": 18,
   "metadata": {},
   "outputs": [
    {
     "name": "stdout",
     "output_type": "stream",
     "text": [
      "showA\n",
      "\n",
      "showA\n",
      "\n",
      "showB\n",
      "showA\n",
      "\n",
      "\n",
      "showB\n",
      "\n",
      "showB\n",
      "\n"
     ]
    }
   ],
   "source": [
    "def showA():\n",
    "    for itr in range(3):\n",
    "        print('showA\\n')\n",
    "def showB():\n",
    "    for itr in range(3):\n",
    "        print('showB\\n')\n",
    "    \n",
    "threadA = threading.Thread(target=showA, name='thrdA')\n",
    "threadA.start()\n",
    "###\n",
    "threadA.join()\n",
    "\n",
    "print('all done')"
   ]
  }
 ],
 "metadata": {
  "kernelspec": {
   "display_name": "Python 3",
   "language": "python",
   "name": "python3"
  },
  "language_info": {
   "codemirror_mode": {
    "name": "ipython",
    "version": 3
   },
   "file_extension": ".py",
   "mimetype": "text/x-python",
   "name": "python",
   "nbconvert_exporter": "python",
   "pygments_lexer": "ipython3",
   "version": "3.6.1"
  }
 },
 "nbformat": 4,
 "nbformat_minor": 2
}
