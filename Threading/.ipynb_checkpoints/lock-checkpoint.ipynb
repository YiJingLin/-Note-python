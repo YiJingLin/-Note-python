{
 "cells": [
  {
   "cell_type": "code",
   "execution_count": 1,
   "metadata": {
    "collapsed": true
   },
   "outputs": [],
   "source": [
    "import threading, time"
   ]
  },
  {
   "cell_type": "markdown",
   "metadata": {},
   "source": [
    "# without lock\n",
    "note that there are more than one possible outcome"
   ]
  },
  {
   "cell_type": "code",
   "execution_count": 7,
   "metadata": {},
   "outputs": [
    {
     "name": "stdout",
     "output_type": "stream",
     "text": [
      "A : 1A : 12\n",
      "\n",
      "A : 22\n",
      "A : 2A : 32\n",
      "\n",
      "A : 53A : 42\n",
      "\n",
      "A : 54A : 52\n",
      "\n",
      "A : 55\n"
     ]
    }
   ],
   "source": [
    "def task1():\n",
    "    global A\n",
    "    for itr in range(5):\n",
    "        A += 1\n",
    "        print('A : {}'.format(A))\n",
    "\n",
    "def task2():\n",
    "    global A\n",
    "    for itr in range(5):\n",
    "        A += 10\n",
    "        print('A : {}'.format(A))\n",
    "    \n",
    "# main\n",
    "\n",
    "A=0\n",
    "\n",
    "thrd1 = threading.Thread(target = task1, name='T1')\n",
    "thrd2 = threading.Thread(target = task2, name='T2')\n",
    "\n",
    "thrd1.start()\n",
    "thrd2.start()"
   ]
  },
  {
   "cell_type": "markdown",
   "metadata": {},
   "source": [
    "# with lock\n",
    "Note that wihtout join, the outcome will also be arbitrary"
   ]
  },
  {
   "cell_type": "code",
   "execution_count": 16,
   "metadata": {},
   "outputs": [
    {
     "name": "stdout",
     "output_type": "stream",
     "text": [
      "A : 1\n",
      "A : 2\n",
      "A : 3\n",
      "A : 4\n",
      "A : 5\n",
      "A : 15\n",
      "A : 25\n",
      "A : 35\n",
      "A : 45\n",
      "A : 55\n"
     ]
    }
   ],
   "source": [
    "def task1():\n",
    "    global A, lock\n",
    "    ###\n",
    "    lock.acquire()\n",
    "    ###\n",
    "    for itr in range(5):\n",
    "        A += 1\n",
    "        print('A : {}'.format(A))\n",
    "    \n",
    "    ###\n",
    "    lock.release()\n",
    "    ###\n",
    "    \n",
    "def task2():\n",
    "    global A, lock\n",
    "    ###\n",
    "    lock.acquire()\n",
    "    ###\n",
    "    for itr in range(5):\n",
    "        A += 10\n",
    "        print('A : {}'.format(A))\n",
    "    \n",
    "    ###\n",
    "    lock.release()\n",
    "    ###\n",
    "\n",
    "# main\n",
    "\n",
    "A=0\n",
    "\n",
    "###\n",
    "lock = threading.Lock()\n",
    "###\n",
    "\n",
    "thrd1 = threading.Thread(target = task1, name='T1')\n",
    "thrd2 = threading.Thread(target = task2, name='T2')\n",
    "\n",
    "thrd1.start()\n",
    "thrd2.start()\n",
    "###\n",
    "thrd1.join()\n",
    "thrd2.join()\n",
    "###"
   ]
  }
 ],
 "metadata": {
  "kernelspec": {
   "display_name": "Python 3",
   "language": "python",
   "name": "python3"
  },
  "language_info": {
   "codemirror_mode": {
    "name": "ipython",
    "version": 3
   },
   "file_extension": ".py",
   "mimetype": "text/x-python",
   "name": "python",
   "nbconvert_exporter": "python",
   "pygments_lexer": "ipython3",
   "version": "3.6.1"
  }
 },
 "nbformat": 4,
 "nbformat_minor": 2
}
