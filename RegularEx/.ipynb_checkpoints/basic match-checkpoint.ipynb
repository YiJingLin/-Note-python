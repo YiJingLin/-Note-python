{
 "cells": [
  {
   "cell_type": "code",
   "execution_count": 1,
   "metadata": {
    "collapsed": true
   },
   "outputs": [],
   "source": [
    "import re"
   ]
  },
  {
   "cell_type": "markdown",
   "metadata": {},
   "source": [
    "# basic match"
   ]
  },
  {
   "cell_type": "code",
   "execution_count": 2,
   "metadata": {},
   "outputs": [
    {
     "name": "stdout",
     "output_type": "stream",
     "text": [
      "cat in string : True\n",
      "bird in string : False\n"
     ]
    }
   ],
   "source": [
    "ptrn1 = 'cat'\n",
    "ptrn2 = 'bird'\n",
    "string = 'dog runs to cat'\n",
    "\n",
    "print('{} in string : {}'.format(ptrn1, ptrn1 in string))\n",
    "print('{} in string : {}'.format(ptrn2, ptrn2 in string))"
   ]
  },
  {
   "cell_type": "markdown",
   "metadata": {},
   "source": [
    "# Regular Expression\n",
    "### using re.search(pattern, string)"
   ]
  },
  {
   "cell_type": "code",
   "execution_count": 4,
   "metadata": {},
   "outputs": [
    {
     "name": "stdout",
     "output_type": "stream",
     "text": [
      "cat in string : <_sre.SRE_Match object; span=(12, 15), match='cat'>\n",
      "bird in string : None\n"
     ]
    }
   ],
   "source": [
    "ptrn1 = 'cat'\n",
    "ptrn2 = 'bird'\n",
    "string = 'dog runs to cat'\n",
    "print('{} in string : {}'.format(ptrn1, re.search(ptrn1,string)))\n",
    "print('{} in string : {}'.format(ptrn2, re.search(ptrn2,string)))"
   ]
  },
  {
   "cell_type": "code",
   "execution_count": null,
   "metadata": {
    "collapsed": true
   },
   "outputs": [],
   "source": []
  },
  {
   "cell_type": "code",
   "execution_count": 6,
   "metadata": {},
   "outputs": [
    {
     "name": "stdout",
     "output_type": "stream",
     "text": [
      "<_sre.SRE_Match object; span=(4, 7), match='run'>\n",
      "None\n",
      "None\n",
      "<_sre.SRE_Match object; span=(4, 7), match='run'>\n"
     ]
    }
   ],
   "source": [
    "string = 'dog runs to cat'\n",
    "\n",
    "print(re.search(r'r[a-z]n', string))\n",
    "print(re.search(r'r[A-Z]n', string))\n",
    "print(re.search(r'r[0-9]n', string))\n",
    "\n",
    "# mutiple (OR) condition\n",
    "print(re.search(r'r[0-9a-z]n', string))"
   ]
  },
  {
   "cell_type": "code",
   "execution_count": null,
   "metadata": {
    "collapsed": true
   },
   "outputs": [],
   "source": []
  }
 ],
 "metadata": {
  "kernelspec": {
   "display_name": "Python 3",
   "language": "python",
   "name": "python3"
  },
  "language_info": {
   "codemirror_mode": {
    "name": "ipython",
    "version": 3
   },
   "file_extension": ".py",
   "mimetype": "text/x-python",
   "name": "python",
   "nbconvert_exporter": "python",
   "pygments_lexer": "ipython3",
   "version": "3.6.1"
  }
 },
 "nbformat": 4,
 "nbformat_minor": 2
}
