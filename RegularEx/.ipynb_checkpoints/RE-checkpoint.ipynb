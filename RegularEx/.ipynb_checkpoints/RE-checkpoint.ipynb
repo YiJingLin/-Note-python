{
 "cells": [
  {
   "cell_type": "code",
   "execution_count": 2,
   "metadata": {
    "collapsed": true
   },
   "outputs": [],
   "source": [
    "import re"
   ]
  },
  {
   "cell_type": "markdown",
   "metadata": {},
   "source": [
    "# 1. character range\n",
    "english character, number"
   ]
  },
  {
   "cell_type": "code",
   "execution_count": null,
   "metadata": {
    "collapsed": true
   },
   "outputs": [],
   "source": [
    "string = 'dog runs to cat'\n",
    "\n",
    "print(re.search(r'r[a-z]n', string))\n",
    "print(re.search(r'r[A-Z]n', string))\n",
    "print(re.search(r'r[0-9]n', string))\n",
    "\n",
    "# mutiple (OR) condition\n",
    "print(re.search(r'r[0-9a-z]n', string))"
   ]
  },
  {
   "cell_type": "markdown",
   "metadata": {},
   "source": [
    "# 2. special character\n",
    "- Rule:\n",
    "    - lower case : condition\n",
    "    - upper case : **not** condition\n",
    "\n",
    "### (1) decimal or not - \"\\d\""
   ]
  },
  {
   "cell_type": "code",
   "execution_count": 3,
   "metadata": {},
   "outputs": [
    {
     "name": "stdout",
     "output_type": "stream",
     "text": [
      "<_sre.SRE_Match object; span=(4, 7), match='r4n'>\n",
      "<_sre.SRE_Match object; span=(0, 3), match='run'>\n"
     ]
    }
   ],
   "source": [
    "string = \"run r4n\"\n",
    "\n",
    "print(re.search(r\"r\\dn\", string))\n",
    "print(re.search(r\"r\\Dn\", string))"
   ]
  },
  {
   "cell_type": "markdown",
   "metadata": {},
   "source": [
    "### (2) white space or not - \"\\s\"\n",
    "\\t, \\n, \\r, \\f, \\v"
   ]
  },
  {
   "cell_type": "code",
   "execution_count": 10,
   "metadata": {},
   "outputs": [
    {
     "name": "stdout",
     "output_type": "stream",
     "text": [
      "<_sre.SRE_Match object; span=(0, 2), match='r\\t'>\n",
      "<_sre.SRE_Match object; span=(3, 5), match='ru'>\n"
     ]
    }
   ],
   "source": [
    "string = \"r\\t run\"\n",
    "\n",
    "print(re.search(r\"r\\s\", string))\n",
    "print(re.search(r\"r\\S\", string))"
   ]
  },
  {
   "cell_type": "markdown",
   "metadata": {},
   "source": [
    "### (3) basic character or not - \"\\w\"\n",
    "\\w == [a-zA-Z0-9]"
   ]
  },
  {
   "cell_type": "code",
   "execution_count": 16,
   "metadata": {},
   "outputs": [
    {
     "name": "stdout",
     "output_type": "stream",
     "text": [
      "<_sre.SRE_Match object; span=(4, 7), match='run'>\n",
      "<_sre.SRE_Match object; span=(0, 3), match='r\\tn'>\n"
     ]
    }
   ],
   "source": [
    "string = \"r\\tn run\"\n",
    "\n",
    "print(re.search(r\"r\\wn\", string))\n",
    "print(re.search(r\"r\\Wn\", string))"
   ]
  },
  {
   "cell_type": "markdown",
   "metadata": {},
   "source": [
    "### (4) empty string (at the begin or the end of a word) - \"\\b\""
   ]
  },
  {
   "cell_type": "code",
   "execution_count": 25,
   "metadata": {},
   "outputs": [
    {
     "name": "stdout",
     "output_type": "stream",
     "text": [
      "<_sre.SRE_Match object; span=(4, 7), match='run'>\n",
      "None\n",
      "None\n",
      "<_sre.SRE_Match object; span=(5, 8), match='run'>\n"
     ]
    }
   ],
   "source": [
    "string = \"ran run\"\n",
    "\n",
    "print(re.search(r\"\\brun\\b\", string))\n",
    "print(re.search(r\"\\Brun\", string))\n",
    "\n",
    "\n",
    "string = \"ran Arun\"\n",
    "\n",
    "print(re.search(r\"\\brun\", string))\n",
    "print(re.search(r\"\\Brun\", string))"
   ]
  },
  {
   "cell_type": "markdown",
   "metadata": {},
   "source": [
    "### (5) match anything (except \\n) - \".\""
   ]
  },
  {
   "cell_type": "code",
   "execution_count": 26,
   "metadata": {},
   "outputs": [
    {
     "name": "stdout",
     "output_type": "stream",
     "text": [
      "<_sre.SRE_Match object; span=(3, 7), match=' run'>\n",
      "None\n"
     ]
    }
   ],
   "source": [
    "print(re.search(r\".run\", \"ran run\"))\n",
    "print(re.search(r\".run\", \"ran \\nrun\"))"
   ]
  },
  {
   "cell_type": "markdown",
   "metadata": {},
   "source": [
    "### (6) line begining - \"^\" "
   ]
  },
  {
   "cell_type": "code",
   "execution_count": 29,
   "metadata": {},
   "outputs": [
    {
     "name": "stdout",
     "output_type": "stream",
     "text": [
      "<_sre.SRE_Match object; span=(0, 3), match='ran'>\n",
      "None\n"
     ]
    }
   ],
   "source": [
    "string = \"ran run\"\n",
    "\n",
    "print(re.search(r\"^ran\", string))\n",
    "print(re.search(r\"^run\", string))"
   ]
  },
  {
   "cell_type": "markdown",
   "metadata": {},
   "source": [
    "### (7) match line ending - \"$\""
   ]
  },
  {
   "cell_type": "code",
   "execution_count": 30,
   "metadata": {},
   "outputs": [
    {
     "name": "stdout",
     "output_type": "stream",
     "text": [
      "None\n",
      "<_sre.SRE_Match object; span=(4, 7), match='run'>\n"
     ]
    }
   ],
   "source": [
    "string = \"ran run\"\n",
    "\n",
    "print(re.search(r\"ran$\", string))\n",
    "print(re.search(r\"run$\", string))"
   ]
  },
  {
   "cell_type": "markdown",
   "metadata": {},
   "source": [
    "### (8) may or may not occur - \"(&lt;string&gt;)?\""
   ]
  },
  {
   "cell_type": "code",
   "execution_count": 38,
   "metadata": {},
   "outputs": [
    {
     "name": "stdout",
     "output_type": "stream",
     "text": [
      "<_sre.SRE_Match object; span=(0, 3), match='ran'>\n",
      "<_sre.SRE_Match object; span=(0, 1), match='r'>\n"
     ]
    }
   ],
   "source": [
    "print(re.search(r\"r(an)?\", \"ran\"))\n",
    "print(re.search(r\"r(an)?\", \"r\"))"
   ]
  },
  {
   "cell_type": "markdown",
   "metadata": {},
   "source": [
    "# 3. times\n",
    "\n",
    "### (1) zero or more times - \"*\""
   ]
  },
  {
   "cell_type": "code",
   "execution_count": 39,
   "metadata": {},
   "outputs": [
    {
     "name": "stdout",
     "output_type": "stream",
     "text": [
      "<_sre.SRE_Match object; span=(0, 1), match='a'>\n",
      "<_sre.SRE_Match object; span=(0, 9), match='abbbbbbbb'>\n"
     ]
    }
   ],
   "source": [
    "print(re.search(r\"ab*\", \"a\"))\n",
    "print(re.search(r\"ab*\", \"abbbbbbbb\"))"
   ]
  },
  {
   "cell_type": "markdown",
   "metadata": {},
   "source": [
    "### (2) one or more times - \"+\""
   ]
  },
  {
   "cell_type": "code",
   "execution_count": 40,
   "metadata": {},
   "outputs": [
    {
     "name": "stdout",
     "output_type": "stream",
     "text": [
      "None\n",
      "<_sre.SRE_Match object; span=(0, 9), match='abbbbbbbb'>\n"
     ]
    }
   ],
   "source": [
    "print(re.search(r\"ab+\", \"a\"))\n",
    "print(re.search(r\"ab+\", \"abbbbbbbb\"))"
   ]
  },
  {
   "cell_type": "markdown",
   "metadata": {},
   "source": [
    "### (3) n to m times - \"{n, m}\""
   ]
  },
  {
   "cell_type": "code",
   "execution_count": null,
   "metadata": {
    "collapsed": true
   },
   "outputs": [],
   "source": [
    "print(re.search(r\"ab{2, 10}\", \"a\"))\n",
    "print(re.search(r\"ab{2, 10}\", \"abbbbbbbb\"))"
   ]
  }
 ],
 "metadata": {
  "kernelspec": {
   "display_name": "Python 3",
   "language": "python",
   "name": "python3"
  },
  "language_info": {
   "codemirror_mode": {
    "name": "ipython",
    "version": 3
   },
   "file_extension": ".py",
   "mimetype": "text/x-python",
   "name": "python",
   "nbconvert_exporter": "python",
   "pygments_lexer": "ipython3",
   "version": "3.6.1"
  }
 },
 "nbformat": 4,
 "nbformat_minor": 2
}
