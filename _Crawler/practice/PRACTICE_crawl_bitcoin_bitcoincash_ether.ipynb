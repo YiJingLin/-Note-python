{
 "cells": [
  {
   "cell_type": "code",
   "execution_count": 31,
   "metadata": {},
   "outputs": [],
   "source": [
    "import requests, time, json, ast\n",
    "from bs4 import BeautifulSoup as bs\n",
    "import pandas as pd"
   ]
  },
  {
   "cell_type": "code",
   "execution_count": 58,
   "metadata": {
    "collapsed": true
   },
   "outputs": [],
   "source": [
    "res_btc = requests.get(\"https://www.coingecko.com/zh-tw/%E5%8C%AF%E7%8E%87%E5%9C%96/%E6%AF%94%E7%89%B9%E5%B9%A3/twd\")\n",
    "res_eth = requests.get(\"https://www.coingecko.com/zh-tw/%E5%8C%AF%E7%8E%87%E5%9C%96/%E4%BB%A5%E5%A4%AA%E5%B9%A3/twd\")\n",
    "res_bch = requests.get(\"https://www.coingecko.com/zh-tw/%E5%8C%AF%E7%8E%87%E5%9C%96/bitcoin-cash/twd\")\n",
    "\n",
    "\n",
    "soup_btc = bs(res_btc.text,'html.parser')\n",
    "soup_eth = bs(res_eth.text,'html.parser')\n",
    "soup_bch = bs(res_bch.text,'html.parser')\n"
   ]
  },
  {
   "cell_type": "markdown",
   "metadata": {},
   "source": [
    "# Bitcoin"
   ]
  },
  {
   "cell_type": "code",
   "execution_count": 59,
   "metadata": {},
   "outputs": [],
   "source": [
    "# get data div tag\n",
    "target = soup_btc.find(\"div\",{\"id\":\"coin_portfolio_price_chart_btc\"})\n",
    "# get attr data\n",
    "data_list = ast.literal_eval(target[\"data-prices\"])\n",
    "df_btc = pd.DataFrame([[time.ctime(t/1000), price] for t, price in data_list])"
   ]
  },
  {
   "cell_type": "code",
   "execution_count": 60,
   "metadata": {},
   "outputs": [],
   "source": [
    "df_btc.columns=['datetime', 'price']\n",
    "df_btc.to_csv('btc_2018Feb7-8.csv',index=False)"
   ]
  },
  {
   "cell_type": "markdown",
   "metadata": {},
   "source": [
    "# Bitcoin cash"
   ]
  },
  {
   "cell_type": "code",
   "execution_count": 62,
   "metadata": {},
   "outputs": [],
   "source": [
    "# get data div tag\n",
    "target = soup_bch.find(\"div\",{\"id\":\"coin_portfolio_price_chart_bch\"})\n",
    "# get attr data\n",
    "data_list = ast.literal_eval(target[\"data-prices\"])\n",
    "df_bch = pd.DataFrame([[time.ctime(t/1000), price] for t, price in data_list])"
   ]
  },
  {
   "cell_type": "code",
   "execution_count": 63,
   "metadata": {},
   "outputs": [],
   "source": [
    "df_bch.columns=['datetime', 'price']\n",
    "df_bch.to_csv('bch_2018Feb7-8.csv',index=False)"
   ]
  },
  {
   "cell_type": "markdown",
   "metadata": {},
   "source": [
    "# Ether"
   ]
  },
  {
   "cell_type": "code",
   "execution_count": 64,
   "metadata": {},
   "outputs": [],
   "source": [
    "# get data div tag\n",
    "target = soup_eth.find(\"div\",{\"id\":\"coin_portfolio_price_chart_eth\"})\n",
    "# get attr data\n",
    "data_list = ast.literal_eval(target[\"data-prices\"])\n",
    "df_eth = pd.DataFrame([[time.ctime(t/1000), price] for t, price in data_list])"
   ]
  },
  {
   "cell_type": "code",
   "execution_count": 65,
   "metadata": {
    "collapsed": true
   },
   "outputs": [],
   "source": [
    "df_eth.columns=['datetime', 'price']\n",
    "df_eth.to_csv('eth_2018Feb7-8.csv',index=False)"
   ]
  }
 ],
 "metadata": {
  "kernelspec": {
   "display_name": "Python 3",
   "language": "python",
   "name": "python3"
  },
  "language_info": {
   "codemirror_mode": {
    "name": "ipython",
    "version": 3
   },
   "file_extension": ".py",
   "mimetype": "text/x-python",
   "name": "python",
   "nbconvert_exporter": "python",
   "pygments_lexer": "ipython3",
   "version": "3.6.1"
  }
 },
 "nbformat": 4,
 "nbformat_minor": 2
}
