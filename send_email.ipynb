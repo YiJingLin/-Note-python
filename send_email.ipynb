{
 "cells": [
  {
   "cell_type": "code",
   "execution_count": null,
   "metadata": {},
   "outputs": [],
   "source": [
    "# send notification in gmail\n",
    "import smtplib\n",
    "from email.mime.text import MIMEText\n",
    "from email.header import Header\n",
    "import pickle\n",
    "\n",
    "try:\n",
    "with open('../usr_gmail_info.pkl','rb') as f:\n",
    "    info = pickle.load(f)\n",
    "\n",
    "    \n",
    "###################\n",
    "\n",
    "fromaddr = info['addr']\n",
    "toaddrs  = info['addr']\n",
    "username = info['addr']\n",
    "password = info['password']\n",
    "\n",
    "###################\n",
    "\n",
    "message = MIMEText('Testing :D', 'plain', 'utf-8')\n",
    "message['From'] = Header(\"Crawler\", 'utf-8')\n",
    "message['To'] =  Header(\"YiJing\", 'utf-8')\n",
    " \n",
    "subject = 'CrawlerError'\n",
    "message['Subject'] = Header(subject, 'utf-8')\n",
    "\n",
    "###################\n",
    "\n",
    "server = smtplib.SMTP('smtp.gmail.com:587')\n",
    "server.starttls()\n",
    "server.login(username,password)\n",
    "server.sendmail(fromaddr, toaddrs, message.as_string())\n",
    "server.quit()\n"
   ]
  },
  {
   "cell_type": "code",
   "execution_count": 12,
   "metadata": {},
   "outputs": [],
   "source": [
    "import time\n",
    "try:\n",
    "    open('./dasd.s')\n",
    "\n",
    "except Exception as detail :\n",
    "#     print('[mail] send_email.py : ',detail)\n",
    "    with open('log.log','w') as f:\n",
    "        f.writelines('[{}] send mail error :'.format(time.ctime()))\n",
    "        f.writelines(str(detail))\n",
    "        f.close()"
   ]
  },
  {
   "cell_type": "code",
   "execution_count": null,
   "metadata": {
    "collapsed": true
   },
   "outputs": [],
   "source": []
  }
 ],
 "metadata": {
  "kernelspec": {
   "display_name": "Python 3",
   "language": "python",
   "name": "python3"
  },
  "language_info": {
   "codemirror_mode": {
    "name": "ipython",
    "version": 3
   },
   "file_extension": ".py",
   "mimetype": "text/x-python",
   "name": "python",
   "nbconvert_exporter": "python",
   "pygments_lexer": "ipython3",
   "version": "3.6.1"
  }
 },
 "nbformat": 4,
 "nbformat_minor": 2
}
